{
 "cells": [
  {
   "cell_type": "markdown",
   "metadata": {},
   "source": [
    "# A coffee shop recommendation system using data science in Toronto\n",
    "\n",
    "## Introduction/Business Problem\n",
    "For some young entrepreneurs, opening a coffee shop in a city like Toronto may be a good choice. However, not every coffee shop will be profitable. In addition to its own strength, many objective factors cannot be ignored, such as location. Good location must be convenient transportation, stable passenger flow. Thus, cafes should first choose office-intensive areas. Many office workers are an important group of coffee consumption. Therefore, how to find such a location becomes the key to success of entrepreneurship. This article will focus on this issues, using the knowledge of data science learned in this course, to help entrepreneurs find the best location for cafes in a certain area of Toronto.\n",
    "\n",
    "## Data\n",
    "For the problem, we need to collect the following data:\n",
    "1. The geographical coordinates of the Toronto area.\n",
    "2. Cafe location data.\n",
    "3. Location data of the office buildings.\n",
    "4. Other data necessarily\n"
   ]
  },
  {
   "cell_type": "code",
   "execution_count": null,
   "metadata": {},
   "outputs": [],
   "source": []
  }
 ],
 "metadata": {
  "kernelspec": {
   "display_name": "Python 3",
   "language": "python",
   "name": "python3"
  },
  "language_info": {
   "codemirror_mode": {
    "name": "ipython",
    "version": 3
   },
   "file_extension": ".py",
   "mimetype": "text/x-python",
   "name": "python",
   "nbconvert_exporter": "python",
   "pygments_lexer": "ipython3",
   "version": "3.6.8"
  }
 },
 "nbformat": 4,
 "nbformat_minor": 2
}
